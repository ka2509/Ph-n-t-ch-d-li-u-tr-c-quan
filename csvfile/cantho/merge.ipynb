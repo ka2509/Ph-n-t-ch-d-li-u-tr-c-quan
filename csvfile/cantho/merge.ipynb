{
 "cells": [
  {
   "cell_type": "code",
   "execution_count": null,
   "metadata": {},
   "outputs": [],
   "source": [
    "import pandas as pd\n",
    "df1 = pd.read_csv('canthoT1.csv')\n",
    "df2 = pd.read_csv('canthoT2.csv')\n",
    "df3 = pd.read_csv('canthoT3.csv')\n",
    "df4 = pd.read_csv('canthoT4.csv')\n",
    "df5 = pd.read_csv('canthoT5.csv')\n",
    "df6 = pd.read_csv('canthoT6.csv')\n",
    "df7 = pd.read_csv('canthoT7.csv')\n",
    "df8 = pd.read_csv('canthoT8.csv')\n",
    "df9 = pd.read_csv('canthoT9.csv')\n",
    "df10 = pd.read_csv('canthoT10.csv')\n",
    "df11 = pd.read_csv('canthoT11.csv')\n",
    "df12 = pd.read_csv('canthoT12.csv')\n",
    "merged_df = pd.concat([df1, df2, df3, df4, df5, df6, df7, df8 ,df9,df10,df11,df12], ignore_index=True)\n",
    "\n"
   ]
  }
 ],
 "metadata": {
  "language_info": {
   "name": "python"
  }
 },
 "nbformat": 4,
 "nbformat_minor": 2
}
