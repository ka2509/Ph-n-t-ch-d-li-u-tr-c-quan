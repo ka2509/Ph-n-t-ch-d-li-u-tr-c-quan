{
 "cells": [
  {
   "cell_type": "code",
   "execution_count": 2,
   "metadata": {},
   "outputs": [
    {
     "name": "stdout",
     "output_type": "stream",
     "text": [
      "   độ ẩm bề mặt đất  nhiệt độ bề mặt  tổng lượng mưa month\n",
      "0          0.000031       298.715477        0.000194    T1\n"
     ]
    }
   ],
   "source": [
    "import xarray as xr\n",
    "import pandas as pd\n",
    "\n",
    "# Đọc tệp NetCDF\n",
    "file_path = 'canthoT1.nc'  # Thay thế bằng đường dẫn tới tệp NetCDF của bạn\n",
    "ds = xr.open_dataset(file_path)\n",
    "ds = ds.to_dataframe().reset_index()\n",
    "ds = ds.drop(['longitude', 'latitude', 'time'], axis=1)\n",
    "\n",
    "# Tính giá trị trung bình của các biến\n",
    "average = ds.mean().to_frame().T\n",
    "\n",
    "# Thêm cột 'month'\n",
    "average['month'] = 'T1'\n",
    "average = average.rename(columns={'src': 'độ ẩm bề mặt đất', 'skt': 'nhiệt độ bề mặt', 'tp': 'tổng lượng mưa'})\n",
    "print(average)\n",
    "# Xuất dữ liệu ra file CSV\n",
    "csv_file_path = 'canthoT1.csv'  # Thay thế bằng đường dẫn bạn muốn lưu file CSV\n",
    "average.to_csv(csv_file_path, index=False, header=True)"
   ]
  }
 ],
 "metadata": {
  "kernelspec": {
   "display_name": "Python 3",
   "language": "python",
   "name": "python3"
  },
  "language_info": {
   "codemirror_mode": {
    "name": "ipython",
    "version": 3
   },
   "file_extension": ".py",
   "mimetype": "text/x-python",
   "name": "python",
   "nbconvert_exporter": "python",
   "pygments_lexer": "ipython3",
   "version": "3.11.2"
  }
 },
 "nbformat": 4,
 "nbformat_minor": 2
}
